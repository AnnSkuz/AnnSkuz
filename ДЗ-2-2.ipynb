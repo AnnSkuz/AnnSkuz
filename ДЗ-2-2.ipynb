{
 "cells": [
  {
   "cell_type": "markdown",
   "metadata": {
    "collapsed": true
   },
   "source": [
    "# Домашнее задание 2 \n",
    "\n",
    "Необходимо реализовать схему, указанную в hw_diagram.pdf \n"
   ]
  },
  {
   "cell_type": "markdown",
   "metadata": {},
   "source": [
    "## Описание таблиц \n",
    "PeopleStatus - Описание возможных статусов людей, которые есть в университете (Студент, Преподаватель).\n",
    "Faculties - Описание факультетов, которые есть в университете (KIB, IT, и т.д.).\n",
    "People - Информация о людях в университете (Имя, почта, ссылка на факультет, ссылка на статус).\n",
    "Classes - Описание возможных классов в университете (название (Математический анализ) и ссылка на факультет).\n",
    "Semesters - Справочник семестров факультета(например, Осень2016, '2016-01-01', '2016-12-31').\n",
    "ClassesSchedule - Расписание классов (ссылки на семестр, преподавателя и курс, день недели, время начала).\n",
    "StudentsSchedule - Таблица, описывающая, какой студент ходит на какой курс."
   ]
  },
  {
   "cell_type": "code",
   "execution_count": 131,
   "metadata": {
    "collapsed": false
   },
   "outputs": [
    {
     "name": "stdout",
     "output_type": "stream",
     "text": [
      "The sql extension is already loaded. To reload it, use:\n",
      "  %reload_ext sql\n"
     ]
    },
    {
     "data": {
      "text/plain": [
       "'Connected: None@None'"
      ]
     },
     "execution_count": 131,
     "metadata": {},
     "output_type": "execute_result"
    }
   ],
   "source": [
    "%load_ext sql\n",
    "%sql sqlite://"
   ]
  },
  {
   "cell_type": "markdown",
   "metadata": {},
   "source": [
    "## Создание таблиц\n",
    "Напишет ниже скрипты по созданию таблиц с учетом всех внешних ключей."
   ]
  },
  {
   "cell_type": "code",
   "execution_count": 178,
   "metadata": {
    "collapsed": false
   },
   "outputs": [
    {
     "name": "stdout",
     "output_type": "stream",
     "text": [
      "0 rows affected.\n",
      "0 rows affected.\n",
      "0 rows affected.\n",
      "0 rows affected.\n",
      "0 rows affected.\n",
      "0 rows affected.\n",
      "0 rows affected.\n",
      "0 rows affected.\n",
      "0 rows affected.\n",
      "0 rows affected.\n",
      "0 rows affected.\n",
      "0 rows affected.\n",
      "0 rows affected.\n",
      "0 rows affected.\n"
     ]
    },
    {
     "data": {
      "text/plain": [
       "[]"
      ]
     },
     "execution_count": 178,
     "metadata": {},
     "output_type": "execute_result"
    }
   ],
   "source": [
    "%%sql\n",
    "DROP TABLE if exists PeopleStatus;\n",
    "CREATE TABLE PeopleStatus (ID integer(0,0) NOT NULL Primary key, name varchar(0,0)); \n",
    "\n",
    "DROP TABLE if exists People;\n",
    "CREATE TABLE People (ID integer(0,0) NOT NULL Primary key,\n",
    "                    name varchar(0,0) NOT NULL,\n",
    "                    email varchar(0,0),\n",
    "                    fac_id integer(0,0) NOT NULL,\n",
    "                    status_id integer(0,0) NOT NULL,\n",
    "                    FOREIGN KEY (status_id) REFERENCES PeopleStatus(ID),\n",
    "                    FOREIGN KEY (fac_id) REFERENCES Faculties(ID));\n",
    "\n",
    "DROP TABLE if exists ClassesShedule;\n",
    "CREATE TABLE ClassesShedule (ID integer(0,0) NOT NULL Primary key, \n",
    "                            class_id integer(0,0) NOT NULL,\n",
    "                            teacher_id integer(0,0) NOT NULL,\n",
    "                            semester_id integer(0,0) NOT NULL,\n",
    "                            week_day integer(0,0),\n",
    "                            time_start varchar(0,0),\n",
    "                            FOREIGN KEY (semester_id) REFERENCES Semesters(ID),\n",
    "                            FOREIGN KEY (class_id) REFERENCES Classes(ID),\n",
    "                            FOREIGN KEY (teacher_id) REFERENCES People(ID));\n",
    "\n",
    "DROP TABLE if exists Faculties;\n",
    "CREATE TABLE Faculties (ID integer(0,0) NOT NULL Primary key,\n",
    "                        name varchar(0,0) NOT NULL);\n",
    "\n",
    "DROP TABLE if exists StudentsSchedule;\n",
    "CREATE TABLE StudentsSchedule (student_id integer(0,0) NOT NULL,\n",
    "                               ClassesSchedule_id integer(0,0) NOT NULL, \n",
    "                               FOREIGN KEY (student_id) REFERENCES People (ID),\n",
    "                               FOREIGN KEY (ClassesSchedule_id) REFERENCES ClassesShedule (ID));\n",
    "\n",
    "DROP TABLE if exists Semesters;\n",
    "CREATE TABLE Semesters (ID integer(0,0) NOT NULL Primary key, \n",
    "                        shortname varchar(0,0), \n",
    "                        date_start date(0,0), \n",
    "                        date_end date(0,0)); \n",
    "\n",
    "DROP TABLE if exists Classes;\n",
    "CREATE TABLE Classes (ID integer(0,0) NOT NULL Primary key, \n",
    "                      description varchar(0,0),\n",
    "                      fuc_id integer(0,0) NOT NULL,\n",
    "                      FOREIGN KEY (fuc_id) REFERENCES Faculties(ID));"
   ]
  },
  {
   "cell_type": "markdown",
   "metadata": {},
   "source": [
    "## Добавление записей в таблицы\n",
    "Приведите примеры добавления записей в каждую из таблиц\n"
   ]
  },
  {
   "cell_type": "code",
   "execution_count": 179,
   "metadata": {
    "collapsed": false
   },
   "outputs": [
    {
     "name": "stdout",
     "output_type": "stream",
     "text": [
      "1 rows affected.\n",
      "1 rows affected.\n",
      "Done.\n"
     ]
    },
    {
     "data": {
      "text/html": [
       "<table>\n",
       "    <tr>\n",
       "        <th>ID</th>\n",
       "        <th>name</th>\n",
       "    </tr>\n",
       "    <tr>\n",
       "        <td>1</td>\n",
       "        <td>student</td>\n",
       "    </tr>\n",
       "    <tr>\n",
       "        <td>2</td>\n",
       "        <td>teacher</td>\n",
       "    </tr>\n",
       "</table>"
      ],
      "text/plain": [
       "[(1, 'student'), (2, 'teacher')]"
      ]
     },
     "execution_count": 179,
     "metadata": {},
     "output_type": "execute_result"
    }
   ],
   "source": [
    "%%sql \n",
    "INSERT INTO PeopleStatus (ID,name) VALUES (1,'student');\n",
    "INSERT INTO PeopleStatus (ID,name) VALUES (2,'teacher');\n",
    "\n",
    "select * \n",
    "from PeopleStatus\n",
    "order by id"
   ]
  },
  {
   "cell_type": "code",
   "execution_count": 160,
   "metadata": {
    "collapsed": false
   },
   "outputs": [
    {
     "name": "stdout",
     "output_type": "stream",
     "text": [
      "1 rows affected.\n",
      "1 rows affected.\n",
      "1 rows affected.\n",
      "1 rows affected.\n",
      "Done.\n"
     ]
    },
    {
     "data": {
      "text/html": [
       "<table>\n",
       "    <tr>\n",
       "        <th>ID</th>\n",
       "        <th>name</th>\n",
       "    </tr>\n",
       "    <tr>\n",
       "        <td>1</td>\n",
       "        <td>KIB</td>\n",
       "    </tr>\n",
       "    <tr>\n",
       "        <td>2</td>\n",
       "        <td>IT</td>\n",
       "    </tr>\n",
       "    <tr>\n",
       "        <td>3</td>\n",
       "        <td>Electronics</td>\n",
       "    </tr>\n",
       "    <tr>\n",
       "        <td>4</td>\n",
       "        <td>Economy</td>\n",
       "    </tr>\n",
       "</table>"
      ],
      "text/plain": [
       "[(1, 'KIB'), (2, 'IT'), (3, 'Electronics'), (4, 'Economy')]"
      ]
     },
     "execution_count": 160,
     "metadata": {},
     "output_type": "execute_result"
    }
   ],
   "source": [
    "%%sql \n",
    "INSERT INTO Faculties (ID, name) VALUES (1,'KIB');\n",
    "INSERT INTO Faculties (ID, name) VALUES (2,'IT');\n",
    "INSERT INTO Faculties VALUES (3,'Electronics');\n",
    "INSERT INTO Faculties VALUES (4,'Economy');\n",
    "\n",
    "select *\n",
    "from Faculties"
   ]
  },
  {
   "cell_type": "code",
   "execution_count": 161,
   "metadata": {
    "collapsed": false
   },
   "outputs": [
    {
     "name": "stdout",
     "output_type": "stream",
     "text": [
      "1 rows affected.\n",
      "1 rows affected.\n",
      "1 rows affected.\n",
      "1 rows affected.\n",
      "1 rows affected.\n",
      "1 rows affected.\n",
      "1 rows affected.\n",
      "1 rows affected.\n",
      "1 rows affected.\n",
      "Done.\n"
     ]
    },
    {
     "data": {
      "text/html": [
       "<table>\n",
       "    <tr>\n",
       "        <th>ID</th>\n",
       "        <th>name</th>\n",
       "        <th>email</th>\n",
       "        <th>fac_id</th>\n",
       "        <th>status_id</th>\n",
       "    </tr>\n",
       "    <tr>\n",
       "        <td>1</td>\n",
       "        <td>Skuzovatkina Ann</td>\n",
       "        <td>annskuz97@gmail.com</td>\n",
       "        <td>1</td>\n",
       "        <td>1</td>\n",
       "    </tr>\n",
       "    <tr>\n",
       "        <td>2</td>\n",
       "        <td>Petrov Boris</td>\n",
       "        <td>None</td>\n",
       "        <td>1</td>\n",
       "        <td>2</td>\n",
       "    </tr>\n",
       "    <tr>\n",
       "        <td>3</td>\n",
       "        <td>Vetrov Sergey</td>\n",
       "        <td>sergey@mail.ru</td>\n",
       "        <td>2</td>\n",
       "        <td>1</td>\n",
       "    </tr>\n",
       "    <tr>\n",
       "        <td>4</td>\n",
       "        <td>Zayceva Lubov</td>\n",
       "        <td>None</td>\n",
       "        <td>3</td>\n",
       "        <td>2</td>\n",
       "    </tr>\n",
       "    <tr>\n",
       "        <td>5</td>\n",
       "        <td>Bunin Ivan</td>\n",
       "        <td>bunin@mail.com</td>\n",
       "        <td>4</td>\n",
       "        <td>1</td>\n",
       "    </tr>\n",
       "    <tr>\n",
       "        <td>6</td>\n",
       "        <td>Belkina Ekaterina</td>\n",
       "        <td>belka@mirea.ru</td>\n",
       "        <td>3</td>\n",
       "        <td>1</td>\n",
       "    </tr>\n",
       "    <tr>\n",
       "        <td>7</td>\n",
       "        <td>Volkov Dmitriy</td>\n",
       "        <td>DmVolk@mail.com</td>\n",
       "        <td>2</td>\n",
       "        <td>2</td>\n",
       "    </tr>\n",
       "    <tr>\n",
       "        <td>8</td>\n",
       "        <td>Ivanov Egor</td>\n",
       "        <td>bunin@mail.com</td>\n",
       "        <td>4</td>\n",
       "        <td>1</td>\n",
       "    </tr>\n",
       "    <tr>\n",
       "        <td>9</td>\n",
       "        <td>Ivanova Elena</td>\n",
       "        <td>None</td>\n",
       "        <td>1</td>\n",
       "        <td>2</td>\n",
       "    </tr>\n",
       "</table>"
      ],
      "text/plain": [
       "[(1, 'Skuzovatkina Ann', 'annskuz97@gmail.com', 1, 1),\n",
       " (2, 'Petrov Boris', None, 1, 2),\n",
       " (3, 'Vetrov Sergey', 'sergey@mail.ru', 2, 1),\n",
       " (4, 'Zayceva Lubov', None, 3, 2),\n",
       " (5, 'Bunin Ivan', 'bunin@mail.com', 4, 1),\n",
       " (6, 'Belkina Ekaterina', 'belka@mirea.ru', 3, 1),\n",
       " (7, 'Volkov Dmitriy', 'DmVolk@mail.com', 2, 2),\n",
       " (8, 'Ivanov Egor', 'bunin@mail.com', 4, 1),\n",
       " (9, 'Ivanova Elena', None, 1, 2)]"
      ]
     },
     "execution_count": 161,
     "metadata": {},
     "output_type": "execute_result"
    }
   ],
   "source": [
    "%%sql \n",
    "INSERT INTO People (ID, name, email, fac_id, status_id) VALUES (1,'Skuzovatkina Ann', 'annskuz97@gmail.com', 1, 1);\n",
    "INSERT INTO People (ID, name, email, fac_id, status_id) VALUES (2, 'Petrov Boris', null, 1, 2);\n",
    "INSERT INTO People VALUES (3, 'Vetrov Sergey', 'sergey@mail.ru', 2, 1);\n",
    "INSERT INTO People VALUES (4,'Zayceva Lubov', null, 3, 2);\n",
    "INSERT INTO People VALUES (5,'Bunin Ivan', 'bunin@mail.com', 4, 1);\n",
    "INSERT INTO People VALUES (6,'Belkina Ekaterina', 'belka@mirea.ru', 3, 1);\n",
    "INSERT INTO People VALUES (7,'Volkov Dmitriy', 'DmVolk@mail.com', 2, 2);\n",
    "INSERT INTO People VALUES (8,'Ivanov Egor', 'bunin@mail.com', 4, 1);\n",
    "INSERT INTO People VALUES (9,'Ivanova Elena', null, 4, 2);\n",
    "\n",
    "select * \n",
    "from People\n",
    "order by id"
   ]
  },
  {
   "cell_type": "code",
   "execution_count": 157,
   "metadata": {
    "collapsed": false
   },
   "outputs": [
    {
     "name": "stdout",
     "output_type": "stream",
     "text": [
      "1 rows affected.\n",
      "1 rows affected.\n",
      "1 rows affected.\n",
      "1 rows affected.\n",
      "1 rows affected.\n",
      "1 rows affected.\n",
      "Done.\n"
     ]
    },
    {
     "data": {
      "text/html": [
       "<table>\n",
       "    <tr>\n",
       "        <th>ID</th>\n",
       "        <th>description</th>\n",
       "        <th>fuc_id</th>\n",
       "    </tr>\n",
       "    <tr>\n",
       "        <td>1</td>\n",
       "        <td>MatAn</td>\n",
       "        <td>1</td>\n",
       "    </tr>\n",
       "    <tr>\n",
       "        <td>2</td>\n",
       "        <td>LinAl</td>\n",
       "        <td>3</td>\n",
       "    </tr>\n",
       "    <tr>\n",
       "        <td>3</td>\n",
       "        <td>DiffUr</td>\n",
       "        <td>2</td>\n",
       "    </tr>\n",
       "    <tr>\n",
       "        <td>4</td>\n",
       "        <td>Economics</td>\n",
       "        <td>4</td>\n",
       "    </tr>\n",
       "    <tr>\n",
       "        <td>5</td>\n",
       "        <td>DiffGem</td>\n",
       "        <td>1</td>\n",
       "    </tr>\n",
       "    <tr>\n",
       "        <td>6</td>\n",
       "        <td>electrical engineering</td>\n",
       "        <td>3</td>\n",
       "    </tr>\n",
       "</table>"
      ],
      "text/plain": [
       "[(1, 'MatAn', 1),\n",
       " (2, 'LinAl', 3),\n",
       " (3, 'DiffUr', 2),\n",
       " (4, 'Economics', 4),\n",
       " (5, 'DiffGem', 1),\n",
       " (6, 'electrical engineering', 3)]"
      ]
     },
     "execution_count": 157,
     "metadata": {},
     "output_type": "execute_result"
    }
   ],
   "source": [
    "%%sql \n",
    "INSERT INTO Classes (ID, description, fuc_id) VALUES (1, 'MatAn', 1);\n",
    "INSERT INTO Classes (ID, description, fuc_id) VALUES (2, 'LinAl', 3);\n",
    "INSERT INTO Classes (ID, description, fuc_id) VALUES (3, 'DiffUr', 2);\n",
    "INSERT INTO Classes VALUES (4, 'Economics', 4);\n",
    "INSERT INTO Classes VALUES (5, 'DiffGem', 1);\n",
    "INSERT INTO Classes VALUES (6, 'Electrical engineering', 3);\n",
    "\n",
    "select *\n",
    "from classes"
   ]
  },
  {
   "cell_type": "code",
   "execution_count": 155,
   "metadata": {
    "collapsed": false
   },
   "outputs": [
    {
     "name": "stdout",
     "output_type": "stream",
     "text": [
      "1 rows affected.\n",
      "1 rows affected.\n",
      "1 rows affected.\n",
      "1 rows affected.\n",
      "Done.\n"
     ]
    },
    {
     "data": {
      "text/html": [
       "<table>\n",
       "    <tr>\n",
       "        <th>ID</th>\n",
       "        <th>shortname</th>\n",
       "        <th>date_start</th>\n",
       "        <th>date_end</th>\n",
       "    </tr>\n",
       "    <tr>\n",
       "        <td>1</td>\n",
       "        <td>First</td>\n",
       "        <td>2015-09-01</td>\n",
       "        <td>2015-12-31</td>\n",
       "    </tr>\n",
       "    <tr>\n",
       "        <td>2</td>\n",
       "        <td>Second</td>\n",
       "        <td>2016-08-02</td>\n",
       "        <td>2016-05-31</td>\n",
       "    </tr>\n",
       "    <tr>\n",
       "        <td>3</td>\n",
       "        <td>Third</td>\n",
       "        <td>2016-09-01</td>\n",
       "        <td>2016-12-31</td>\n",
       "    </tr>\n",
       "    <tr>\n",
       "        <td>4</td>\n",
       "        <td>Fourth</td>\n",
       "        <td>2017-06-02</td>\n",
       "        <td>2017-05-31</td>\n",
       "    </tr>\n",
       "</table>"
      ],
      "text/plain": [
       "[(1, 'First', '2015-09-01', '2015-12-31'),\n",
       " (2, 'Second', '2016-08-02', '2016-05-31'),\n",
       " (3, 'Third', '2016-09-01', '2016-12-31'),\n",
       " (4, 'Fourth', '2017-06-02', '2017-05-31')]"
      ]
     },
     "execution_count": 155,
     "metadata": {},
     "output_type": "execute_result"
    }
   ],
   "source": [
    "%%sql\n",
    "INSERT INTO Semesters (ID,shortname,date_start,date_end) VALUES (1,'First','2015-09-01','2015-12-31');\n",
    "INSERT INTO Semesters (ID,shortname,date_start,date_end) VALUES (2,'Second','2016-02-08','2016-05-31');\n",
    "INSERT INTO Semesters VALUES (3,'Third','2016-09-01','2016-12-31');\n",
    "INSERT INTO Semesters VALUES (4,'Fourth','2017-02-06','2017-05-31');\n",
    "\n",
    "select *\n",
    "from Semesters"
   ]
  },
  {
   "cell_type": "code",
   "execution_count": 168,
   "metadata": {
    "collapsed": false
   },
   "outputs": [
    {
     "name": "stdout",
     "output_type": "stream",
     "text": [
      "1 rows affected.\n",
      "1 rows affected.\n",
      "1 rows affected.\n",
      "1 rows affected.\n",
      "1 rows affected.\n",
      "Done.\n"
     ]
    },
    {
     "data": {
      "text/html": [
       "<table>\n",
       "    <tr>\n",
       "        <th>ID</th>\n",
       "        <th>class_id</th>\n",
       "        <th>teacher_id</th>\n",
       "        <th>semester_id</th>\n",
       "        <th>week_day</th>\n",
       "        <th>time_start</th>\n",
       "    </tr>\n",
       "    <tr>\n",
       "        <td>1</td>\n",
       "        <td>2</td>\n",
       "        <td>4</td>\n",
       "        <td>1</td>\n",
       "        <td>Pn</td>\n",
       "        <td>09;00</td>\n",
       "    </tr>\n",
       "    <tr>\n",
       "        <td>2</td>\n",
       "        <td>5</td>\n",
       "        <td>2</td>\n",
       "        <td>2</td>\n",
       "        <td>Vt</td>\n",
       "        <td>09:00</td>\n",
       "    </tr>\n",
       "    <tr>\n",
       "        <td>3</td>\n",
       "        <td>1</td>\n",
       "        <td>2</td>\n",
       "        <td>3</td>\n",
       "        <td>Sr</td>\n",
       "        <td>13:00</td>\n",
       "    </tr>\n",
       "    <tr>\n",
       "        <td>4</td>\n",
       "        <td>3</td>\n",
       "        <td>7</td>\n",
       "        <td>4</td>\n",
       "        <td>Cht</td>\n",
       "        <td>10:40</td>\n",
       "    </tr>\n",
       "    <tr>\n",
       "        <td>5</td>\n",
       "        <td>4</td>\n",
       "        <td>9</td>\n",
       "        <td>1</td>\n",
       "        <td>Sr</td>\n",
       "        <td>14:40</td>\n",
       "    </tr>\n",
       "</table>"
      ],
      "text/plain": [
       "[(1, 2, 4, 1, 'Pn', '09;00'),\n",
       " (2, 5, 2, 2, 'Vt', '09:00'),\n",
       " (3, 1, 2, 3, 'Sr', '13:00'),\n",
       " (4, 3, 7, 4, 'Cht', '10:40'),\n",
       " (5, 4, 9, 1, 'Sr', '14:40')]"
      ]
     },
     "execution_count": 168,
     "metadata": {},
     "output_type": "execute_result"
    }
   ],
   "source": [
    "%%sql \n",
    "INSERT INTO ClassesShedule (ID,class_id,teacher_id,semester_id,week_day,time_start) VALUES  (1,2,4,1,'Pn','09;00');\n",
    "INSERT INTO ClassesShedule VALUES (2,5,2,2,'Vt','09:00');\n",
    "INSERT INTO ClassesShedule VALUES (3,1,2,3,'Sr','13:00');\n",
    "INSERT INTO ClassesShedule VALUES (4,3,7,4,'Cht','10:40');\n",
    "INSERT INTO ClassesShedule VALUES (5,4,9,1,'Sr','14:40');\n",
    "-- с семестрами получилось странно, но для примера же пойдет?\n",
    "\n",
    "select *\n",
    "from ClassesShedule"
   ]
  },
  {
   "cell_type": "code",
   "execution_count": 166,
   "metadata": {
    "collapsed": false
   },
   "outputs": [
    {
     "name": "stdout",
     "output_type": "stream",
     "text": [
      "1 rows affected.\n",
      "1 rows affected.\n",
      "1 rows affected.\n",
      "1 rows affected.\n",
      "1 rows affected.\n",
      "Done.\n"
     ]
    },
    {
     "data": {
      "text/html": [
       "<table>\n",
       "    <tr>\n",
       "        <th>student_id</th>\n",
       "        <th>ClassesSchedule</th>\n",
       "    </tr>\n",
       "    <tr>\n",
       "        <td>1</td>\n",
       "        <td>1</td>\n",
       "    </tr>\n",
       "    <tr>\n",
       "        <td>3</td>\n",
       "        <td>3</td>\n",
       "    </tr>\n",
       "    <tr>\n",
       "        <td>5</td>\n",
       "        <td>4</td>\n",
       "    </tr>\n",
       "    <tr>\n",
       "        <td>6</td>\n",
       "        <td>2</td>\n",
       "    </tr>\n",
       "    <tr>\n",
       "        <td>8</td>\n",
       "        <td>1</td>\n",
       "    </tr>\n",
       "</table>"
      ],
      "text/plain": [
       "[(1, 1), (3, 3), (5, 4), (6, 2), (8, 1)]"
      ]
     },
     "execution_count": 166,
     "metadata": {},
     "output_type": "execute_result"
    }
   ],
   "source": [
    "%%sql\n",
    "INSERT INTO StudentsSchedule (student_id, ClassesSchedule) VALUES (1,1);\n",
    "INSERT INTO StudentsSchedule (student_id, ClassesSchedule) VALUES (3,3);\n",
    "INSERT INTO StudentsSchedule VALUES (5,4);\n",
    "INSERT INTO StudentsSchedule VALUES (6,2);\n",
    "INSERT INTO StudentsSchedule VALUES (8,1);\n",
    "-- Я так поняла \"какой студент\" - это id сеудента, а \"какой курс\" - это что? \n",
    "--Я написала какой студент на каком году обучения. Надеюсь, верно.\n",
    "\n",
    "select *\n",
    "from StudentsSchedule"
   ]
  },
  {
   "cell_type": "markdown",
   "metadata": {},
   "source": [
    "Находится ли указанная схема ниже в BCNF? Напишите ниже функциональные зависимости, которые вы считаете, есть в указанной схеме. "
   ]
  },
  {
   "cell_type": "markdown",
   "metadata": {},
   "source": []
  }
 ],
 "metadata": {
  "kernelspec": {
   "display_name": "Python 3",
   "language": "python",
   "name": "python3"
  },
  "language_info": {
   "codemirror_mode": {
    "name": "ipython",
    "version": 3
   },
   "file_extension": ".py",
   "mimetype": "text/x-python",
   "name": "python",
   "nbconvert_exporter": "python",
   "pygments_lexer": "ipython3",
   "version": "3.6.0"
  }
 },
 "nbformat": 4,
 "nbformat_minor": 2
}
