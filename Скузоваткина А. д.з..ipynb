{
 "cells": [
  {
   "cell_type": "markdown",
   "metadata": {},
   "source": [
    "Данное домашнее задание посвящено схеме базе данных, связанной с футбольным командами. Схема расположена в hw_diagram.jpg\n",
    "## Описание таблиц \n",
    "\n",
    "### Positions \n",
    "Позиции игроков\n",
    "id - уникальный идентификатор позиции \n",
    "Name - Название таблицы \n",
    "\n",
    "### Coaches \n",
    "Таблица тренеров \n",
    "id - уникальный идентификатор тренера\n",
    "Name - имя тренера \n",
    "\n",
    "## Teams \n",
    "Таблица команд \n",
    "id - уникальный идентификатор  команды \n",
    "Name - имя команды \n",
    "Location - расположение команды \n",
    "Coach_id - идентификатор тренера \n",
    "\n",
    "### Players \n",
    "Таблица игроков \n",
    "Id - уникальный идентификатор игрока \n",
    "Name - имя игрока \n",
    "Age - возраст игрока \n",
    "Position_id - идентификатор позиции \n",
    "Team_id - идентификатор команды \n",
    "Start_date - дата начала игры в команде \n",
    "\n",
    "### PlayersArchive \n",
    "Архив по игрокам (информация о том, в какой команде игрок играл ранее) \n",
    "player_id - идентификатор игрока \n",
    "team_id - идентификатор команды \n",
    "start_date - дата начала игры \n",
    "end_date - дата окончания игры"
   ]
  },
  {
   "cell_type": "code",
   "execution_count": 62,
   "metadata": {
    "collapsed": false
   },
   "outputs": [
    {
     "name": "stdout",
     "output_type": "stream",
     "text": [
      "The sql extension is already loaded. To reload it, use:\n",
      "  %reload_ext sql\n"
     ]
    },
    {
     "data": {
      "text/plain": [
       "'Connected: None@chinook.db'"
      ]
     },
     "execution_count": 62,
     "metadata": {},
     "output_type": "execute_result"
    }
   ],
   "source": [
    "%load_ext sql\n",
    "%sql sqlite:///chinook.db"
   ]
  },
  {
   "cell_type": "markdown",
   "metadata": {},
   "source": [
    "# Задание 1\n",
    "Реализовать перенакатываемые sql-скрипты по схеме hw_diagram, приложенного ниже."
   ]
  },
  {
   "cell_type": "code",
   "execution_count": 63,
   "metadata": {
    "collapsed": false
   },
   "outputs": [
    {
     "name": "stdout",
     "output_type": "stream",
     "text": [
      "Done.\n",
      "8 rows affected.\n",
      "8 rows affected.\n",
      "8 rows affected.\n",
      "8 rows affected.\n",
      "8 rows affected.\n",
      "8 rows affected.\n",
      "8 rows affected.\n",
      "8 rows affected.\n",
      "8 rows affected.\n",
      "8 rows affected.\n"
     ]
    },
    {
     "data": {
      "text/plain": [
       "[]"
      ]
     },
     "execution_count": 63,
     "metadata": {},
     "output_type": "execute_result"
    }
   ],
   "source": [
    "%%sql\n",
    "Pragma foreign_key=ON;\n",
    "DROP TABLE if exists PlayersArchive;\n",
    "DROP TABLE if exists Players;\n",
    "DROP TABLE if exists Position;\n",
    "DROP TABLE if exists Teams;\n",
    "DROP TABLE if exists Coaches;\n",
    "\n",
    "CREATE TABLE Coaches (ID integer(0,0) NOT NULL Primary key, name varchar(0,0)); \n",
    "\n",
    "CREATE TABLE Teams (ID integer(0,0) NOT NULL Primary key,\n",
    "                    name varchar(0,0) NOT NULL,\n",
    "                    location varchar(0,0),\n",
    "                    coach_id integer(0,0) NOT NULL,\n",
    "                    FOREIGN KEY (coach_id) REFERENCES Coaches(ID));\n",
    "\n",
    "CREATE TABLE  Position (ID integer(0,0) NOT NULL Primary key, name varchar(0,0)); \n",
    "\n",
    "CREATE TABLE  Players (ID integer(0,0) NOT NULL Primary key,\n",
    "                       name varchar(0,0) NOT NULL, \n",
    "                       age intenger(0,0),\n",
    "                       team_id intenger(0,0),\n",
    "                       position_id intenger(0,0),\n",
    "                       start_date date,\n",
    "                       FOREIGN KEY (team_id) REFERENCES Teams(ID),\n",
    "                       FOREIGN KEY (position_id) REFERENCES Position(ID));\n",
    "\n",
    "CREATE TABLE PlayersArchive (player_ID integer(0,0) NOT NULL, \n",
    "                            team_id integer(0,0) NOT NULL,\n",
    "                            start_date date(0,0) NOT NULL,\n",
    "                            end_date date(0,0) NOT NULL,\n",
    "                            FOREIGN KEY (player_ID) REFERENCES Players(ID)\n",
    "                            FOREIGN KEY (team_id) REFERENCES Teams(ID));"
   ]
  },
  {
   "cell_type": "markdown",
   "metadata": {},
   "source": [
    "# Задание 2\n",
    "Написать sql-скрипт, осуществляюший добавление всех возможных позиций игроков. (В данной задаче можно ограничится четырьмя - вратарь, защитник, полузащитник, нападающий)"
   ]
  },
  {
   "cell_type": "code",
   "execution_count": 64,
   "metadata": {
    "collapsed": false
   },
   "outputs": [
    {
     "name": "stdout",
     "output_type": "stream",
     "text": [
      "1 rows affected.\n",
      "1 rows affected.\n",
      "1 rows affected.\n",
      "1 rows affected.\n"
     ]
    },
    {
     "data": {
      "text/plain": [
       "[]"
      ]
     },
     "execution_count": 64,
     "metadata": {},
     "output_type": "execute_result"
    }
   ],
   "source": [
    "%%sql\n",
    "INSERT INTO Position VALUES (1,'Вратарь');\n",
    "INSERT INTO Position VALUES (2,'Защитник');\n",
    "INSERT INTO Position VALUES (3,'Полузащитник');\n",
    "INSERT INTO Position VALUES (4,'Нападающий');"
   ]
  },
  {
   "cell_type": "code",
   "execution_count": 65,
   "metadata": {
    "collapsed": false
   },
   "outputs": [
    {
     "name": "stdout",
     "output_type": "stream",
     "text": [
      "Done.\n"
     ]
    },
    {
     "data": {
      "text/html": [
       "<table>\n",
       "    <tr>\n",
       "        <th>ID</th>\n",
       "        <th>name</th>\n",
       "    </tr>\n",
       "    <tr>\n",
       "        <td>1</td>\n",
       "        <td>Вратарь</td>\n",
       "    </tr>\n",
       "    <tr>\n",
       "        <td>2</td>\n",
       "        <td>Защитник</td>\n",
       "    </tr>\n",
       "    <tr>\n",
       "        <td>3</td>\n",
       "        <td>Полузащитник</td>\n",
       "    </tr>\n",
       "    <tr>\n",
       "        <td>4</td>\n",
       "        <td>Нападающий</td>\n",
       "    </tr>\n",
       "</table>"
      ],
      "text/plain": [
       "[(1, 'Вратарь'), (2, 'Защитник'), (3, 'Полузащитник'), (4, 'Нападающий')]"
      ]
     },
     "execution_count": 65,
     "metadata": {},
     "output_type": "execute_result"
    }
   ],
   "source": [
    "%%sql \n",
    "select *\n",
    "from Position "
   ]
  },
  {
   "cell_type": "markdown",
   "metadata": {},
   "source": [
    "# Задание 3\n",
    "Написать функцию, осуществляющую добавление тренера. На вход функции подается имя тренера. При невозможности вставки функция должна обработать данное исключение и вывести пользователю информацию о проблеме\n",
    "\n",
    "После написания функции необходимо добавить несколько тренеров для таблицы."
   ]
  },
  {
   "cell_type": "code",
   "execution_count": 66,
   "metadata": {
    "collapsed": false
   },
   "outputs": [],
   "source": [
    "import sqlite3;\n",
    "db=sqlite3.connect('chinook.db')\n",
    "def check_coach(coach_name):\n",
    "    cur=db.cursor()\n",
    "    cur.execute('''select id from coaches where name =?''',(coach_name,))\n",
    "    try:\n",
    "        coach_id=cur.fetchone()[0]\n",
    "        print('Тренер',coach_name, 'уже записан')\n",
    "        return coach_id\n",
    "    except TypeError:\n",
    "        return -1\n",
    "    \n",
    "def update_coach(coach_name):\n",
    "    coaches_check = check_coach(coach_name)\n",
    "    if coaches_check != -1:\n",
    "        return -1\n",
    "    cur=db.cursor()\n",
    "    cur.execute( '''SELECT COALESCE(MAX(ID)+1, 1) FROM coaches''')\n",
    "    ID_coach=cur.fetchone()[0]\n",
    "    cur.execute('''INSERT INTO coaches VALUES(?,?)''', (ID_coach,coach_name))\n",
    "    db.commit()"
   ]
  },
  {
   "cell_type": "code",
   "execution_count": 72,
   "metadata": {
    "collapsed": false
   },
   "outputs": [
    {
     "name": "stdout",
     "output_type": "stream",
     "text": [
      "Тренер Михаил уже записан\n"
     ]
    }
   ],
   "source": [
    "update_coach('Михаил');\n",
    "update_coach('Иван');\n",
    "update_coach('Алексей');\n",
    "update_coach('Сергей');\n",
    "update_coach('Петр');\n",
    "update_coach('Михаил'); #для проверки "
   ]
  },
  {
   "cell_type": "code",
   "execution_count": 73,
   "metadata": {
    "collapsed": false
   },
   "outputs": [
    {
     "name": "stdout",
     "output_type": "stream",
     "text": [
      "Done.\n"
     ]
    },
    {
     "data": {
      "text/html": [
       "<table>\n",
       "    <tr>\n",
       "        <th>ID</th>\n",
       "        <th>name</th>\n",
       "    </tr>\n",
       "    <tr>\n",
       "        <td>1</td>\n",
       "        <td>Михаил</td>\n",
       "    </tr>\n",
       "    <tr>\n",
       "        <td>2</td>\n",
       "        <td>Иван</td>\n",
       "    </tr>\n",
       "    <tr>\n",
       "        <td>3</td>\n",
       "        <td>Алексей</td>\n",
       "    </tr>\n",
       "    <tr>\n",
       "        <td>4</td>\n",
       "        <td>Сергей</td>\n",
       "    </tr>\n",
       "    <tr>\n",
       "        <td>5</td>\n",
       "        <td>Петр</td>\n",
       "    </tr>\n",
       "</table>"
      ],
      "text/plain": [
       "[(1, 'Михаил'), (2, 'Иван'), (3, 'Алексей'), (4, 'Сергей'), (5, 'Петр')]"
      ]
     },
     "execution_count": 73,
     "metadata": {},
     "output_type": "execute_result"
    }
   ],
   "source": [
    "%sql select * from coaches"
   ]
  },
  {
   "cell_type": "markdown",
   "metadata": {},
   "source": [
    "# Задание 4\n",
    "\n",
    "Написать функцию, осуществляющую добавление команды. На вход функция принимает (имя команды, местоположение, имя тренера).\n",
    "На выходе должна быть добавлена команда.\n",
    "\n",
    "После написания функции необходимо добавить несколько команд"
   ]
  },
  {
   "cell_type": "code",
   "execution_count": 74,
   "metadata": {
    "collapsed": true
   },
   "outputs": [],
   "source": [
    "def check_team(team_name):\n",
    "    cur=db.cursor()\n",
    "    cur.execute('''select id from teams where name =?''',(team_name,))\n",
    "    try:\n",
    "        team_id=cur.fetchone()[0]\n",
    "        print('Команда',team_name, 'уже существует')\n",
    "        return team_id\n",
    "    except TypeError:\n",
    "        return -1\n",
    "    \n",
    "def ID_Coach(coach_name):\n",
    "    cur=db.cursor()\n",
    "    cur.execute('''select id from coaches where name =?''',(coach_name,))\n",
    "    try:\n",
    "        coach_id=cur.fetchone()[0]\n",
    "        return coach_id\n",
    "    except TypeError:\n",
    "        print('Тренера',coach_name, 'не существует')\n",
    "        return -1\n",
    "    \n",
    "def check_coach(Coach_ID):\n",
    "    cur=db.cursor()\n",
    "    cur.execute('''select id from teams where coach_id =?''',(Coach_ID,))\n",
    "    try:\n",
    "        team_id=cur.fetchone()[0]\n",
    "        return team_id\n",
    "    except TypeError:\n",
    "        return -1        \n",
    "    \n",
    "def update_Team(team_name, location,coach_name):\n",
    "    team_check = check_team(team_name)\n",
    "    if team_check != -1:\n",
    "        return -1\n",
    "    cur=db.cursor()\n",
    "    cur.execute( '''SELECT COALESCE(MAX(ID)+1, 1) FROM teams''')\n",
    "    Team_ID=cur.fetchone()[0]\n",
    "    Coach_ID = ID_Coach(coach_name) \n",
    "    if Coach_ID == -1:\n",
    "        return -1\n",
    "    Coach_check = check_coach(Coach_ID) #проверяем, вдруг такой тренер уже кого-то тренерует (не знаю, нужно или нет)\n",
    "    if  Coach_check != -1:\n",
    "        print('Тренер',coach_name, 'уже тренерует другую команду')\n",
    "        return -1\n",
    "    cur.execute('''INSERT INTO teams VALUES(?,?,?,?)''', (Team_ID,team_name,location,Coach_ID))\n",
    "    db.commit()"
   ]
  },
  {
   "cell_type": "code",
   "execution_count": 75,
   "metadata": {
    "collapsed": false
   },
   "outputs": [
    {
     "name": "stdout",
     "output_type": "stream",
     "text": [
      "Тренера Андрей не существует\n",
      "Команда Цветочки уже существует\n",
      "Тренер Сергей уже тренерует другую команду\n"
     ]
    }
   ],
   "source": [
    "update_Team('Ягодки','Москва','Алексей');\n",
    "update_Team('Цветочки','Лондон','Михаил');\n",
    "update_Team('Бабочки','Санкт-Петербург','Иван');\n",
    "update_Team('Конфетки','Санкт-Петербург','Андрей');\n",
    "update_Team('Снежинки','Москва','Сергей');\n",
    "update_Team('Цветочки','Уфа','Артем');\n",
    "update_Team('Льдинки','Москва','Сергей');"
   ]
  },
  {
   "cell_type": "code",
   "execution_count": 76,
   "metadata": {
    "collapsed": false
   },
   "outputs": [
    {
     "name": "stdout",
     "output_type": "stream",
     "text": [
      "Done.\n"
     ]
    },
    {
     "data": {
      "text/html": [
       "<table>\n",
       "    <tr>\n",
       "        <th>ID</th>\n",
       "        <th>name</th>\n",
       "        <th>location</th>\n",
       "        <th>coach_id</th>\n",
       "    </tr>\n",
       "    <tr>\n",
       "        <td>1</td>\n",
       "        <td>Ягодки</td>\n",
       "        <td>Москва</td>\n",
       "        <td>3</td>\n",
       "    </tr>\n",
       "    <tr>\n",
       "        <td>2</td>\n",
       "        <td>Цветочки</td>\n",
       "        <td>Лондон</td>\n",
       "        <td>1</td>\n",
       "    </tr>\n",
       "    <tr>\n",
       "        <td>3</td>\n",
       "        <td>Бабочки</td>\n",
       "        <td>Санкт-Петербург</td>\n",
       "        <td>2</td>\n",
       "    </tr>\n",
       "    <tr>\n",
       "        <td>4</td>\n",
       "        <td>Снежинки</td>\n",
       "        <td>Москва</td>\n",
       "        <td>4</td>\n",
       "    </tr>\n",
       "</table>"
      ],
      "text/plain": [
       "[(1, 'Ягодки', 'Москва', 3),\n",
       " (2, 'Цветочки', 'Лондон', 1),\n",
       " (3, 'Бабочки', 'Санкт-Петербург', 2),\n",
       " (4, 'Снежинки', 'Москва', 4)]"
      ]
     },
     "execution_count": 76,
     "metadata": {},
     "output_type": "execute_result"
    }
   ],
   "source": [
    "%sql select * from teams"
   ]
  },
  {
   "cell_type": "markdown",
   "metadata": {},
   "source": [
    "# Задание 5\n",
    "\n",
    "Написать функцию, осуществляющую обновление информации о команде. У функции на входе должен быть один обязательный параметр - название команды и два необязательных параметра - имя тренера и местоположение. При этом хотя бы один из необязательных параметров должен быть заполнен. Функция должна обновлять значение переданных необязательных параметров.\n",
    "\n",
    "После написания функции вызовите данную функцию несколько раз"
   ]
  },
  {
   "cell_type": "code",
   "execution_count": 77,
   "metadata": {
    "collapsed": true
   },
   "outputs": [],
   "source": [
    "def ID_team(team_name):\n",
    "    cur=db.cursor()\n",
    "    cur.execute('''select id from teams where name =?''',(team_name,))\n",
    "    try:\n",
    "        team_id=cur.fetchone()[0]\n",
    "        return team_id\n",
    "    except TypeError:\n",
    "        print('Команды',team_name,'не существует')\n",
    "        return -1   \n",
    "    \n",
    "def ID_coach(coach):\n",
    "    cur=db.cursor()\n",
    "    cur.execute('''select id from coaches where name =?''',(coach,))\n",
    "    try:\n",
    "        coach_id=cur.fetchone()[0]\n",
    "        return coach_id\n",
    "    except TypeError:\n",
    "        return -1      \n",
    "    \n",
    "def update_team(*args):\n",
    "    cur=db.cursor()\n",
    "    length=len(args)\n",
    "    commit_flag=0\n",
    "    team_name=args[0]\n",
    "    team_ID = ID_team(team_name) \n",
    "    if team_ID == -1:\n",
    "        return -1\n",
    "    coach_id=ID_coach(args[1]) \n",
    "    if coach_id == -1:\n",
    "        location=args[1]\n",
    "        commit_flag=1\n",
    "    else:\n",
    "        coach=args[1]\n",
    "        commit_flag=2\n",
    "    if length == 3:\n",
    "        location=args[2]\n",
    "        commit_flag=3\n",
    "    if commit_flag==1:\n",
    "         cur.execute('''update teams set location=? where name=?''', (location,team_name))\n",
    "    elif commit_flag==2:\n",
    "         cur.execute('''update teams set coach_id=? where name=?''', (coach_id,team_name))\n",
    "    else:\n",
    "         cur.execute('''update teams set location=?, coach_id=? where name=?''', (location,coach_id,team_name))\n",
    "    db.commit()\n",
    "    "
   ]
  },
  {
   "cell_type": "code",
   "execution_count": 78,
   "metadata": {
    "collapsed": true
   },
   "outputs": [],
   "source": [
    "update_team('Цветочки','Нью-Йорк')\n",
    "update_team('Цветочки','Петр')"
   ]
  },
  {
   "cell_type": "code",
   "execution_count": 79,
   "metadata": {
    "collapsed": false
   },
   "outputs": [
    {
     "name": "stdout",
     "output_type": "stream",
     "text": [
      "Done.\n"
     ]
    },
    {
     "data": {
      "text/html": [
       "<table>\n",
       "    <tr>\n",
       "        <th>ID</th>\n",
       "        <th>name</th>\n",
       "        <th>location</th>\n",
       "        <th>coach_id</th>\n",
       "    </tr>\n",
       "    <tr>\n",
       "        <td>1</td>\n",
       "        <td>Ягодки</td>\n",
       "        <td>Москва</td>\n",
       "        <td>3</td>\n",
       "    </tr>\n",
       "    <tr>\n",
       "        <td>2</td>\n",
       "        <td>Цветочки</td>\n",
       "        <td>Нью-Йорк</td>\n",
       "        <td>5</td>\n",
       "    </tr>\n",
       "    <tr>\n",
       "        <td>3</td>\n",
       "        <td>Бабочки</td>\n",
       "        <td>Санкт-Петербург</td>\n",
       "        <td>2</td>\n",
       "    </tr>\n",
       "    <tr>\n",
       "        <td>4</td>\n",
       "        <td>Снежинки</td>\n",
       "        <td>Москва</td>\n",
       "        <td>4</td>\n",
       "    </tr>\n",
       "</table>"
      ],
      "text/plain": [
       "[(1, 'Ягодки', 'Москва', 3),\n",
       " (2, 'Цветочки', 'Нью-Йорк', 5),\n",
       " (3, 'Бабочки', 'Санкт-Петербург', 2),\n",
       " (4, 'Снежинки', 'Москва', 4)]"
      ]
     },
     "execution_count": 79,
     "metadata": {},
     "output_type": "execute_result"
    }
   ],
   "source": [
    "%sql select * from teams"
   ]
  },
  {
   "cell_type": "markdown",
   "metadata": {},
   "source": [
    "# Задание 6\n",
    "\n",
    "Написать функцию, осуществляющую добавление нового футболиста в таблицу игроков. На входе (имя, возраст, название позиции, название команды, дата перехода в команду(необязательный параметр)). Если дата перехода не указана, то нужно использовать текущую дату. Предусмотреть различные ошибки (такие как неверное имя позиции, неверное название команды, возраст < 10 и > 50 и т.п.)\n",
    "\n",
    "После написания функции необходимо добавить несколько игроков."
   ]
  },
  {
   "cell_type": "code",
   "execution_count": 57,
   "metadata": {
    "collapsed": true
   },
   "outputs": [],
   "source": [
    "import datetime\n",
    "\n",
    "def check_player(player_name):\n",
    "    cur=db.cursor()\n",
    "    cur.execute('''select id from Players where name =?''',(player_name,))\n",
    "    try:\n",
    "        player_id=cur.fetchone()[0]\n",
    "        print('Игрок',player_name, 'уже существует')\n",
    "        return player_id\n",
    "    except TypeError:\n",
    "        return -1\n",
    "\n",
    "def ID_position(position):\n",
    "    cur=db.cursor()\n",
    "    cur.execute('''select id from position where name =?''',(position,))\n",
    "    try:\n",
    "        position_id=cur.fetchone()[0]\n",
    "        return position_id\n",
    "    except TypeError:\n",
    "        print('Позиции',position,'не существует')\n",
    "        return -1   \n",
    "    \n",
    "def ID_team(team_name):\n",
    "    cur=db.cursor()\n",
    "    cur.execute('''select id from teams where name =?''',(team_name,))\n",
    "    try:\n",
    "        team_id=cur.fetchone()[0]\n",
    "        return team_id\n",
    "    except TypeError:\n",
    "        print('Команды',team_name,'не существует')\n",
    "        return -1      \n",
    "    \n",
    "def update_player(*args):\n",
    "    length=len(args)\n",
    "    player_name=args[0]\n",
    "    player_check = check_player(player_name)\n",
    "    if player_check != -1:\n",
    "        return -1\n",
    "    cur=db.cursor()\n",
    "    cur.execute( '''SELECT COALESCE(MAX(ID)+1, 1) FROM Players''')\n",
    "    player_ID = cur.fetchone()[0]\n",
    "    age=args[1]\n",
    "    if age<10 or age>50:\n",
    "        print(player_name,'неподходящий возраст')\n",
    "        return -1\n",
    "    position=args[2]\n",
    "    position_ID = ID_position(position) \n",
    "    if position_ID == -1:\n",
    "        return -1\n",
    "    team=args[3]\n",
    "    team_ID = ID_team(team) \n",
    "    if team_ID == -1:\n",
    "        return -1\n",
    "    if length==4:\n",
    "        data= datetime.date.today()\n",
    "    else:\n",
    "        data=args[4]\n",
    "    cur.execute('''INSERT INTO Players VALUES(?,?,?,?,?,?)''', (player_ID,player_name,age, position_ID,team_ID,data))\n",
    "    db.commit()"
   ]
  },
  {
   "cell_type": "code",
   "execution_count": 58,
   "metadata": {
    "collapsed": false
   },
   "outputs": [
    {
     "name": "stdout",
     "output_type": "stream",
     "text": [
      "Аркадий неподходящий возраст\n",
      "Игрок Георгий уже существует\n",
      "Команды Гусеницы не существует\n",
      "Позиции Судья не существует\n"
     ]
    }
   ],
   "source": [
    "update_player('Георгий',15,'Нападающий','Цветочки','2017-03-12');\n",
    "update_player('Леопольд',20,'Вратарь','Ягодки','2016-02-18');\n",
    "update_player('Аркадий',9,'Защитник','Снежинки','2015-12-30');\n",
    "update_player('Евгений',18,'Полузащитник','Бабочки','2017-10-16');\n",
    "update_player('Георгий',15,'Нападающий','Цветочки','2017-11-20');\n",
    "update_player('Василий',19,'Нападающий','Цветочки','2015-06-01');\n",
    "update_player('Виталий',26,'Защитник','Ягодки','2014-08-07');\n",
    "update_player('Олег',11,'Защитник','Снежинки');\n",
    "update_player('Антон',34,'Вратарь','Бабочки','2012-11-30');\n",
    "update_player('Юрий',18,'Защитник','Гусеницы');\n",
    "update_player('Константин',45,'Судья','Бабочки','2017-03-12');\n",
    "update_player('Илья',45,'Вратарь','Снежинки');"
   ]
  },
  {
   "cell_type": "code",
   "execution_count": 59,
   "metadata": {
    "collapsed": false
   },
   "outputs": [
    {
     "name": "stdout",
     "output_type": "stream",
     "text": [
      "Done.\n"
     ]
    },
    {
     "data": {
      "text/html": [
       "<table>\n",
       "    <tr>\n",
       "        <th>ID</th>\n",
       "        <th>name</th>\n",
       "        <th>age</th>\n",
       "        <th>team_id</th>\n",
       "        <th>position_id</th>\n",
       "        <th>start_date</th>\n",
       "    </tr>\n",
       "    <tr>\n",
       "        <td>1</td>\n",
       "        <td>Георгий</td>\n",
       "        <td>15</td>\n",
       "        <td>4</td>\n",
       "        <td>2</td>\n",
       "        <td>2017-03-12</td>\n",
       "    </tr>\n",
       "    <tr>\n",
       "        <td>2</td>\n",
       "        <td>Леопольд</td>\n",
       "        <td>20</td>\n",
       "        <td>1</td>\n",
       "        <td>1</td>\n",
       "        <td>2016-02-18</td>\n",
       "    </tr>\n",
       "    <tr>\n",
       "        <td>3</td>\n",
       "        <td>Евгений</td>\n",
       "        <td>18</td>\n",
       "        <td>3</td>\n",
       "        <td>3</td>\n",
       "        <td>2017-10-16</td>\n",
       "    </tr>\n",
       "    <tr>\n",
       "        <td>4</td>\n",
       "        <td>Василий</td>\n",
       "        <td>19</td>\n",
       "        <td>4</td>\n",
       "        <td>2</td>\n",
       "        <td>2015-06-01</td>\n",
       "    </tr>\n",
       "    <tr>\n",
       "        <td>5</td>\n",
       "        <td>Виталий</td>\n",
       "        <td>26</td>\n",
       "        <td>2</td>\n",
       "        <td>1</td>\n",
       "        <td>2014-08-07</td>\n",
       "    </tr>\n",
       "    <tr>\n",
       "        <td>6</td>\n",
       "        <td>Олег</td>\n",
       "        <td>11</td>\n",
       "        <td>2</td>\n",
       "        <td>4</td>\n",
       "        <td>2017-05-06</td>\n",
       "    </tr>\n",
       "    <tr>\n",
       "        <td>7</td>\n",
       "        <td>Антон</td>\n",
       "        <td>34</td>\n",
       "        <td>1</td>\n",
       "        <td>3</td>\n",
       "        <td>2012-11-30</td>\n",
       "    </tr>\n",
       "    <tr>\n",
       "        <td>8</td>\n",
       "        <td>Илья</td>\n",
       "        <td>45</td>\n",
       "        <td>1</td>\n",
       "        <td>4</td>\n",
       "        <td>2017-05-06</td>\n",
       "    </tr>\n",
       "</table>"
      ],
      "text/plain": [
       "[(1, 'Георгий', 15, 4, 2, '2017-03-12'),\n",
       " (2, 'Леопольд', 20, 1, 1, '2016-02-18'),\n",
       " (3, 'Евгений', 18, 3, 3, '2017-10-16'),\n",
       " (4, 'Василий', 19, 4, 2, '2015-06-01'),\n",
       " (5, 'Виталий', 26, 2, 1, '2014-08-07'),\n",
       " (6, 'Олег', 11, 2, 4, '2017-05-06'),\n",
       " (7, 'Антон', 34, 1, 3, '2012-11-30'),\n",
       " (8, 'Илья', 45, 1, 4, '2017-05-06')]"
      ]
     },
     "execution_count": 59,
     "metadata": {},
     "output_type": "execute_result"
    }
   ],
   "source": [
    "%sql select * from  Players"
   ]
  },
  {
   "cell_type": "markdown",
   "metadata": {},
   "source": [
    "# Задание 7\n",
    "Написать функцию для перевода игрока в другую команду. Данная функция должна осуществить архивирование текущей записи в таблице игроков в таблицу players_archive с заполнение end_date - датой начала игры за новую команду - 1 день. А также осуществлять изменение поля в таблице Players. При возникновении ошибки должен осуществляться полный откат транзакции."
   ]
  },
  {
   "cell_type": "code",
   "execution_count": null,
   "metadata": {
    "collapsed": true
   },
   "outputs": [],
   "source": []
  }
 ],
 "metadata": {
  "kernelspec": {
   "display_name": "Python 3",
   "language": "python",
   "name": "python3"
  },
  "language_info": {
   "codemirror_mode": {
    "name": "ipython",
    "version": 3
   },
   "file_extension": ".py",
   "mimetype": "text/x-python",
   "name": "python",
   "nbconvert_exporter": "python",
   "pygments_lexer": "ipython3",
   "version": "3.6.0"
  }
 },
 "nbformat": 4,
 "nbformat_minor": 2
}
